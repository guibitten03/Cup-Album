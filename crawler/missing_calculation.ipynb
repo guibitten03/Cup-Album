{
 "cells": [
  {
   "cell_type": "code",
   "execution_count": 23,
   "metadata": {},
   "outputs": [],
   "source": [
    "import pandas as pd\n",
    "import json"
   ]
  },
  {
   "cell_type": "code",
   "execution_count": 24,
   "metadata": {},
   "outputs": [],
   "source": [
    "books_ids = []\n",
    "with open('errors.json') as json_file:\n",
    "    data = json.load(json_file)\n",
    "    books_ids = data['errors_ids']"
   ]
  },
  {
   "cell_type": "code",
   "execution_count": 25,
   "metadata": {},
   "outputs": [],
   "source": [
    "df: pd.DataFrame = pd.read_csv('../gb/ratings.csv')"
   ]
  },
  {
   "cell_type": "code",
   "execution_count": 26,
   "metadata": {},
   "outputs": [],
   "source": [
    "ratings_rep: pd.Series = df['book_id'].value_counts()"
   ]
  },
  {
   "cell_type": "code",
   "execution_count": 27,
   "metadata": {},
   "outputs": [],
   "source": [
    "miss_rating_count = 0\n",
    "for id in books_ids:\n",
    "    miss_rating_count = miss_rating_count + ratings_rep[id]"
   ]
  },
  {
   "cell_type": "code",
   "execution_count": 28,
   "metadata": {},
   "outputs": [],
   "source": [
    "count_ratings = len(df.index)\n",
    "miss_rating_count_percentage = (miss_rating_count / count_ratings) * 100"
   ]
  },
  {
   "cell_type": "code",
   "execution_count": 29,
   "metadata": {},
   "outputs": [
    {
     "name": "stdout",
     "output_type": "stream",
     "text": [
      "Rating miss:\n",
      "\tAbsolute value: 403199\n",
      "\tPercentage: 6.75\n",
      "\tCount not found books: 1290\n"
     ]
    }
   ],
   "source": [
    "print(f'Rating miss:\\n'\n",
    "      f'\\tAbsolute value: {miss_rating_count}\\n'\n",
    "      f'\\tPercentage: {miss_rating_count_percentage:.2f}\\n'\n",
    "      f'\\tCount not found books: {len(books_ids)}')"
   ]
  }
 ],
 "metadata": {
  "interpreter": {
   "hash": "fb2620e59475ce937afbc912ab431f2e9853796d22b6b81f88d9c61f57aa24a6"
  },
  "kernelspec": {
   "display_name": "Python 3.10.4 ('venv': venv)",
   "language": "python",
   "name": "python3"
  },
  "language_info": {
   "codemirror_mode": {
    "name": "ipython",
    "version": 3
   },
   "file_extension": ".py",
   "mimetype": "text/x-python",
   "name": "python",
   "nbconvert_exporter": "python",
   "pygments_lexer": "ipython3",
   "version": "3.10.4"
  },
  "orig_nbformat": 4
 },
 "nbformat": 4,
 "nbformat_minor": 2
}
